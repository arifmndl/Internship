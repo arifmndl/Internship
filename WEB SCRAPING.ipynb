{
 "cells": [
  {
   "cell_type": "code",
   "execution_count": 7,
   "id": "0b536f3a",
   "metadata": {},
   "outputs": [
    {
     "name": "stdout",
     "output_type": "stream",
     "text": [
      "                             Text Level\n",
      "0                       Main Page    h1\n",
      "1            Welcome to Wikipedia    h1\n",
      "2   From today's featured article    h2\n",
      "3                Did you know ...    h2\n",
      "4                     In the news    h2\n",
      "5                     On this day    h2\n",
      "6      From today's featured list    h2\n",
      "7        Today's featured picture    h2\n",
      "8        Other areas of Wikipedia    h2\n",
      "9     Wikipedia's sister projects    h2\n",
      "10            Wikipedia languages    h2\n"
     ]
    }
   ],
   "source": [
    "import requests\n",
    "from bs4 import BeautifulSoup\n",
    "import pandas as pd\n",
    "\n",
    "url = \"https://en.wikipedia.org/wiki/Main_Page\"\n",
    "response = requests.get(url)\n",
    "soup = BeautifulSoup(response.text, \"html.parser\")\n",
    "\n",
    "headers = []\n",
    "\n",
    "for header in soup.find_all([\"h1\", \"h2\", \"h3\", \"h4\", \"h5\", \"h6\"]):\n",
    "    text = header.text.strip()\n",
    "    level = header.name\n",
    "    headers.append((text, level))\n",
    "\n",
    "df = pd.DataFrame(headers, columns=[\"Text\", \"Level\"])\n",
    "print(df)"
   ]
  },
  {
   "cell_type": "code",
   "execution_count": 5,
   "id": "4e20a9c6",
   "metadata": {},
   "outputs": [
    {
     "name": "stdout",
     "output_type": "stream",
     "text": [
      "Empty DataFrame\n",
      "Columns: [Name, Term]\n",
      "Index: []\n"
     ]
    }
   ],
   "source": [
    "import requests\n",
    "from bs4 import BeautifulSoup\n",
    "import pandas as pd\n",
    "\n",
    "url = \"https://presidentofindia.nic.in/former-presidents.htm\"\n",
    "response = requests.get(url)\n",
    "soup = BeautifulSoup(response.text, \"html.parser\")\n",
    "\n",
    "presidents = []\n",
    "\n",
    "for president in soup.select(\"tbody tr\"):\n",
    "    name = president.select(\"td\")[0].text.strip()\n",
    "    term = president.select(\"td\")[1].text.strip()\n",
    "    presidents.append((name, term))\n",
    "\n",
    "df = pd.DataFrame(presidents, columns=[\"Name\", \"Term\"])\n",
    "print(df)"
   ]
  },
  {
   "cell_type": "code",
   "execution_count": 6,
   "id": "ef761354",
   "metadata": {},
   "outputs": [
    {
     "name": "stdout",
     "output_type": "stream",
     "text": [
      "               Team Matches Points Rating\n",
      "0    Australia\\nAUS      26  3,061    118\n",
      "1        India\\nIND      39  4,516    116\n",
      "2     Pakistan\\nPAK      27  3,102    115\n",
      "3      England\\nENG      27  2,790    103\n",
      "4   New Zealand\\nNZ      30  3,057    102\n",
      "5  South Africa\\nSA      22  2,218    101\n",
      "6     Sri Lanka\\nSL      37  3,448     93\n",
      "7   Bangladesh\\nBAN      32  2,941     92\n",
      "8  Afghanistan\\nAFG      21  1,687     80\n",
      "9   West Indies\\nWI      38  2,582     68\n"
     ]
    }
   ],
   "source": [
    "import requests\n",
    "from bs4 import BeautifulSoup\n",
    "import pandas as pd\n",
    "\n",
    "url = \"https://www.icc-cricket.com/rankings/mens/team-rankings/odi\"\n",
    "response = requests.get(url)\n",
    "soup = BeautifulSoup(response.text, \"html.parser\")\n",
    "\n",
    "teams = []\n",
    "\n",
    "for team in soup.select(\"tbody tr\"):\n",
    "    name = team.select(\"td\")[1].text.strip()\n",
    "    matches = team.select(\"td\")[2].text.strip()\n",
    "    points = team.select(\"td\")[3].text.strip()\n",
    "    rating = team.select(\"td\")[4].text.strip()\n",
    "    teams.append((name, matches, points, rating))\n",
    "\n",
    "df = pd.DataFrame(teams, columns=[\"Team\", \"Matches\", \"Points\", \"Rating\"])\n",
    "df = df.head(10)\n",
    "print(df)"
   ]
  },
  {
   "cell_type": "code",
   "execution_count": 8,
   "id": "5d86217b",
   "metadata": {},
   "outputs": [
    {
     "name": "stdout",
     "output_type": "stream",
     "text": [
      "               Team Matches Points Rating\n",
      "0    Australia\\nAUS      26  4,290    165\n",
      "1      England\\nENG      31  3,875    125\n",
      "2  South Africa\\nSA      26  3,098    119\n",
      "3        India\\nIND      30  3,039    101\n",
      "4   New Zealand\\nNZ      28  2,688     96\n",
      "5   West Indies\\nWI      29  2,743     95\n",
      "6   Bangladesh\\nBAN      17  1,284     76\n",
      "7     Sri Lanka\\nSL      12    820     68\n",
      "8     Thailand\\nTHA      13    883     68\n",
      "9     Pakistan\\nPAK      27  1,678     62\n"
     ]
    }
   ],
   "source": [
    "import requests\n",
    "from bs4 import BeautifulSoup\n",
    "import pandas as pd\n",
    "\n",
    "url = \"https://www.icc-cricket.com/rankings/womens/team-rankings/odi\"\n",
    "response = requests.get(url)\n",
    "soup = BeautifulSoup(response.text, \"html.parser\")\n",
    "\n",
    "teams = []\n",
    "\n",
    "for team in soup.select(\"tbody tr\"):\n",
    "    name = team.select(\"td\")[1].text.strip()\n",
    "    matches = team.select(\"td\")[2].text.strip()\n",
    "    points = team.select(\"td\")[3].text.strip()\n",
    "    rating = team.select(\"td\")[4].text.strip()\n",
    "    teams.append((name, matches, points, rating))\n",
    "\n",
    "df = pd.DataFrame(teams, columns=[\"Team\", \"Matches\", \"Points\", \"Rating\"])\n",
    "df = df.head(10)\n",
    "print(df)"
   ]
  },
  {
   "cell_type": "code",
   "execution_count": 10,
   "id": "224fcf91",
   "metadata": {},
   "outputs": [
    {
     "name": "stdout",
     "output_type": "stream",
     "text": [
      "Market MOVERS\n",
      "Most Active\n",
      "Unusual Volume\n",
      "Latest Market News\n",
      "Special Reports\n"
     ]
    }
   ],
   "source": [
    "import requests\n",
    "from bs4 import BeautifulSoup\n",
    "\n",
    "url='https://www.cnbc.com/world/?region=world'\n",
    "response = requests.get(url)\n",
    "\n",
    "soup = BeautifulSoup(response.text, 'html.parser')\n",
    "headlines = soup.find('body').find_all('h3')\n",
    "for x in headlines:\n",
    "    print(x.text.strip())"
   ]
  },
  {
   "cell_type": "code",
   "execution_count": null,
   "id": "52267e05",
   "metadata": {},
   "outputs": [],
   "source": []
  }
 ],
 "metadata": {
  "kernelspec": {
   "display_name": "Python 3 (ipykernel)",
   "language": "python",
   "name": "python3"
  },
  "language_info": {
   "codemirror_mode": {
    "name": "ipython",
    "version": 3
   },
   "file_extension": ".py",
   "mimetype": "text/x-python",
   "name": "python",
   "nbconvert_exporter": "python",
   "pygments_lexer": "ipython3",
   "version": "3.9.13"
  }
 },
 "nbformat": 4,
 "nbformat_minor": 5
}
